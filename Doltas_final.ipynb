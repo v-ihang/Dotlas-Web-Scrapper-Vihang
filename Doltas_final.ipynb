{
  "nbformat": 4,
  "nbformat_minor": 0,
  "metadata": {
    "colab": {
      "name": "Doltas_final.ipynb",
      "provenance": [],
      "collapsed_sections": []
    },
    "kernelspec": {
      "name": "python3",
      "display_name": "Python 3"
    },
    "language_info": {
      "name": "python"
    }
  },
  "cells": [
    {
      "cell_type": "markdown",
      "source": [
        "\n",
        "\n",
        "```\n",
        "Import all the reqquired Libraries\n",
        "```\n",
        "\n"
      ],
      "metadata": {
        "id": "Sw0VonPSRpsY"
      }
    },
    {
      "cell_type": "code",
      "execution_count": 41,
      "metadata": {
        "id": "Bp_0Ct2CErwr"
      },
      "outputs": [],
      "source": [
        "from bs4 import BeautifulSoup as bs\n",
        "import requests\n",
        "from csv import writer\n",
        "import csv\n",
        "import pandas as pd\n",
        "import json"
      ]
    },
    {
      "cell_type": "code",
      "source": [
        "csv_file = open('Restaurant_info.csv', 'w')\n",
        "csv_writer = csv.writer(csv_file)\n",
        "header = ['Restaurant_Name', 'Restaurant_Logo_url', 'Latitude', 'Longitude','Cuisine_tags','Menu_Items']\n",
        "csv_writer.writerow(header)"
      ],
      "metadata": {
        "colab": {
          "base_uri": "https://localhost:8080/"
        },
        "id": "h2E-409NE2qG",
        "outputId": "f575ff1f-0ef3-4444-c02a-f5e480344252"
      },
      "execution_count": 42,
      "outputs": [
        {
          "output_type": "execute_result",
          "data": {
            "text/plain": [
              "80"
            ]
          },
          "metadata": {},
          "execution_count": 42
        }
      ]
    },
    {
      "cell_type": "markdown",
      "source": [
        "Function to derive the information from the website"
      ],
      "metadata": {
        "id": "jJXnb67cRxLe"
      }
    },
    {
      "cell_type": "code",
      "source": [
        "def make_csv(url):\n",
        "  \n",
        "  r = requests.get(url)\n",
        "# Convert to a beautiful soup object\n",
        "  soup = bs(r.content)\n",
        "# Print out the HTML\n",
        "# contents = soup.prettify()\n",
        "  restaurant_name= soup.find('span',class_=\"last-breadcrumb\").text\n",
        "\n",
        "\n",
        "  logo=soup.find('div',class_={\"rest-logo-bg mr-4 mr-m-2 b-a\"})\n",
        "  restaurant_logo= logo.find('img').attrs['src']\n",
        "\n",
        "  coordinate = json.loads(soup.find('script', type='application/ld+json').string)\n",
        "  latitude=float(coordinate['geo']['latitude'])\n",
        "  longitude=float(coordinate['geo']['longitude'])\n",
        "\n",
        "  x= soup.find(class_=\"col-sm-12 col-16 p-r-0\").text.strip()\n",
        "# print(cuisine_tags.prettify())\n",
        "  cuisine_tags=x.split(\", \")\n",
        "  menu_items=[]\n",
        "\n",
        "  data = json.loads(soup.find('script', type='application/json').text)\n",
        "  for i in range(len(data['props']['pageProps']['initialMenuState']['menuData']['items'])):\n",
        "    item_name=data['props']['pageProps']['initialMenuState']['menuData']['items'][i]['name']\n",
        "    item_description=data['props']['pageProps']['initialMenuState']['menuData']['items'][i]['description']\n",
        "    item_price=float(data['props']['pageProps']['initialMenuState']['menuData']['items'][i]['price'])\n",
        "    item_image=data['props']['pageProps']['initialMenuState']['menuData']['items'][i]['originalImage']\n",
        "    info = [item_name,item_description, item_price, item_image]\n",
        "    menu_items.append(info)\n",
        "   \n",
        "\n",
        "    \n",
        "\n",
        "  csv_writer.writerow([restaurant_name,restaurant_logo,latitude,longitude,cuisine_tags,menu_items])\n",
        "\n",
        "  print(restaurant_name)\n",
        "  print(restaurant_logo)\n",
        "  print(latitude)\n",
        "  print(longitude)\n",
        "  print(cuisine_tags)\n",
        "  #print(menu_items)\n"
      ],
      "metadata": {
        "id": "NtWMMPfaFa28"
      },
      "execution_count": 40,
      "outputs": []
    },
    {
      "cell_type": "markdown",
      "source": [
        "URLs of the webpages of the restaurant"
      ],
      "metadata": {
        "id": "AqY2rdBmR92H"
      }
    },
    {
      "cell_type": "code",
      "source": [
        "urls=[\n",
        "    \"https://www.talabat.com/uae/restaurant/621133/ginos-deli-jlt?aid=1308\",\n",
        "    \"https://www.talabat.com/uae/restaurant/645430/pasta-della-nona-jlt-jumeirah-lakes-towers?aid=1308\",\n",
        "    \"https://www.talabat.com/uae/restaurant/50445/pizzaro-marina-3?aid=1308\",\n",
        "    \"https://www.talabat.com/uae/restaurant/605052/the-pasta-guyz-dubai-marina?aid=1308\",\n",
        "    \"https://www.talabat.com/uae/restaurant/621796/pizza-di-rocco-jumeirah-lakes-towers--jlt?aid=1308\",\n",
        "    \"https://www.talabat.com/uae/restaurant/659946/seoul-sister-by-kitch-in-dubai-motor-city?aid=1269\",\n",
        "    \"https://www.talabat.com/uae/restaurant/651460/the-green-house-dh-kitchens-al-rashidiya?aid=1204\",\n",
        "    \"https://www.talabat.com/uae/restaurant/674203/goan-spicy-bites-al-quoz-industrial-area-2?aid=1230\",\n",
        "    \"https://www.talabat.com/uae/restaurant/663015/curry-bites-al-quoz-2?aid=1210\",\n",
        "    \"https://www.talabat.com/uae/restaurant/49957/otaku-restaurant-jumeirah-3?aid=1230\",\n",
        "    \"https://www.talabat.com/uae/restaurant/616535/mad-pops-al-majaz-3?aid=1532\"\n",
        "]"
      ],
      "metadata": {
        "id": "lD6OKNjRF0ed"
      },
      "execution_count": 43,
      "outputs": []
    },
    {
      "cell_type": "code",
      "source": [
        "len(urls)"
      ],
      "metadata": {
        "colab": {
          "base_uri": "https://localhost:8080/"
        },
        "id": "QY4IJFcUF9dU",
        "outputId": "dc575584-a1d8-4655-a02d-c929055fd8dc"
      },
      "execution_count": 44,
      "outputs": [
        {
          "output_type": "execute_result",
          "data": {
            "text/plain": [
              "11"
            ]
          },
          "metadata": {},
          "execution_count": 44
        }
      ]
    },
    {
      "cell_type": "code",
      "source": [
        "for url in urls:\n",
        "  make_csv(url)\n",
        "  print(200*\"-\")\n",
        "  \n",
        "csv_file.close()"
      ],
      "metadata": {
        "colab": {
          "base_uri": "https://localhost:8080/"
        },
        "id": "tuOlkeQQF_0_",
        "outputId": "b0e564dd-17b3-4805-80df-113b0f34718e"
      },
      "execution_count": 45,
      "outputs": [
        {
          "output_type": "stream",
          "name": "stdout",
          "text": [
            "Gino's Deli\n",
            "https://images.deliveryhero.io/image/talabat/restaurants/logo_-_2021-11-23T17_637732788146540497.jpg?width=180\n",
            "25.0648583638963\n",
            "55.1383772692595\n",
            "['Sandwiches', 'Pasta', 'Italian']\n",
            "--------------------------------------------------------------------------------------------------------------------------------------------------------------------------------------------------------\n",
            "Pasta Della Nonna\n",
            "https://images.deliveryhero.io/image/talabat/restaurants/Logos_PastaDellaNonna_Sec637794192311679134.jpg?width=180\n",
            "25.0651332\n",
            "55.13827815\n",
            "['Italian', 'Pasta', 'Salad']\n",
            "--------------------------------------------------------------------------------------------------------------------------------------------------------------------------------------------------------\n",
            "Pizzaro\n",
            "https://images.deliveryhero.io/image/talabat/restaurants/pizzaro_logo_2_(500x_637901901529791866.jpg?width=180\n",
            "25.083309\n",
            "55.146559\n",
            "['Italian', 'Pizza', 'Pasta']\n",
            "--------------------------------------------------------------------------------------------------------------------------------------------------------------------------------------------------------\n",
            "The Pasta Guyz\n",
            "https://images.deliveryhero.io/image/talabat/restaurants/ThePastaGuyz-Logo_637563263478806436.jpg?width=180\n",
            "25.0737758910733\n",
            "55.1322831934299\n",
            "['Italian', 'Pasta']\n",
            "--------------------------------------------------------------------------------------------------------------------------------------------------------------------------------------------------------\n",
            "Pizza Di Rocco\n",
            "https://images.deliveryhero.io/image/talabat/restaurants/PDR_WineRed_Logo_637661895331887248.jpg?width=180\n",
            "25.0650915\n",
            "55.1387907\n",
            "['Pizza', 'Pasta', 'Italian']\n",
            "--------------------------------------------------------------------------------------------------------------------------------------------------------------------------------------------------------\n",
            "Seoul Sister Korean By Kitch-In\n",
            "https://images.deliveryhero.io/image/talabat/restaurants/logo_(9)_637714544932843145.jpg?width=180\n",
            "25.046921\n",
            "55.2303106\n",
            "['Korean', 'Asian', 'Noodles']\n",
            "--------------------------------------------------------------------------------------------------------------------------------------------------------------------------------------------------------\n",
            "The Green House  Warm Healthy Bowls\n",
            "https://images.deliveryhero.io/image/talabat/restaurants/The_Green_House_637840666833149499.jpg?width=180\n",
            "25.2262272\n",
            "55.3944956\n",
            "['Healthy', 'Bowls', 'Acai']\n",
            "--------------------------------------------------------------------------------------------------------------------------------------------------------------------------------------------------------\n",
            "Goan Spicy Bites\n",
            "https://images.deliveryhero.io/image/talabat/restaurants/Logo_Goan637850410493948213.png?width=180\n",
            "25.132516\n",
            "55.247594\n",
            "['Indian', 'Chinese']\n",
            "--------------------------------------------------------------------------------------------------------------------------------------------------------------------------------------------------------\n",
            "Curry Bites\n",
            "https://images.deliveryhero.io/image/talabat/restaurants/logo_637746533699914825.jpg?width=180\n",
            "25.1427443\n",
            "55.2495274\n",
            "['Indian', 'Curry', 'Grills']\n",
            "--------------------------------------------------------------------------------------------------------------------------------------------------------------------------------------------------------\n",
            "OTAKU Restaurant\n",
            "https://images.deliveryhero.io/image/talabat/restaurants/LOGO-EngJap_637587553686008614.jpg?width=180\n",
            "25.1891116415899\n",
            "55.2978348847548\n",
            "['Desserts', 'Japanese', 'Beverages']\n",
            "--------------------------------------------------------------------------------------------------------------------------------------------------------------------------------------------------------\n",
            "Mad Pops\n",
            "https://images.deliveryhero.io/image/talabat/restaurants/Mad_Pops_637417423267888551.jpg?width=180\n",
            "25.3302124\n",
            "55.3719967\n",
            "['American', 'Fast Food', 'Chicken']\n",
            "--------------------------------------------------------------------------------------------------------------------------------------------------------------------------------------------------------\n"
          ]
        }
      ]
    },
    {
      "cell_type": "code",
      "source": [
        "url = '/content/Restaurant_info.csv'\n",
        "df1 = pd.read_csv(url)"
      ],
      "metadata": {
        "id": "YrzMGNp_GGHB"
      },
      "execution_count": 46,
      "outputs": []
    },
    {
      "cell_type": "code",
      "source": [
        "df1"
      ],
      "metadata": {
        "colab": {
          "base_uri": "https://localhost:8080/",
          "height": 525
        },
        "id": "T7y6QfCFGpjA",
        "outputId": "2a6906b5-50a0-4dc0-dcf2-7d8c81e990fa"
      },
      "execution_count": 47,
      "outputs": [
        {
          "output_type": "execute_result",
          "data": {
            "text/plain": [
              "                        Restaurant_Name  \\\n",
              "0                           Gino's Deli   \n",
              "1                     Pasta Della Nonna   \n",
              "2                               Pizzaro   \n",
              "3                        The Pasta Guyz   \n",
              "4                        Pizza Di Rocco   \n",
              "5       Seoul Sister Korean By Kitch-In   \n",
              "6   The Green House  Warm Healthy Bowls   \n",
              "7                      Goan Spicy Bites   \n",
              "8                           Curry Bites   \n",
              "9                      OTAKU Restaurant   \n",
              "10                             Mad Pops   \n",
              "\n",
              "                                  Restaurant_Logo_url   Latitude  Longitude  \\\n",
              "0   https://images.deliveryhero.io/image/talabat/r...  25.064858  55.138377   \n",
              "1   https://images.deliveryhero.io/image/talabat/r...  25.065133  55.138278   \n",
              "2   https://images.deliveryhero.io/image/talabat/r...  25.083309  55.146559   \n",
              "3   https://images.deliveryhero.io/image/talabat/r...  25.073776  55.132283   \n",
              "4   https://images.deliveryhero.io/image/talabat/r...  25.065092  55.138791   \n",
              "5   https://images.deliveryhero.io/image/talabat/r...  25.046921  55.230311   \n",
              "6   https://images.deliveryhero.io/image/talabat/r...  25.226227  55.394496   \n",
              "7   https://images.deliveryhero.io/image/talabat/r...  25.132516  55.247594   \n",
              "8   https://images.deliveryhero.io/image/talabat/r...  25.142744  55.249527   \n",
              "9   https://images.deliveryhero.io/image/talabat/r...  25.189112  55.297835   \n",
              "10  https://images.deliveryhero.io/image/talabat/r...  25.330212  55.371997   \n",
              "\n",
              "                             Cuisine_tags  \\\n",
              "0      ['Sandwiches', 'Pasta', 'Italian']   \n",
              "1           ['Italian', 'Pasta', 'Salad']   \n",
              "2           ['Italian', 'Pizza', 'Pasta']   \n",
              "3                    ['Italian', 'Pasta']   \n",
              "4           ['Pizza', 'Pasta', 'Italian']   \n",
              "5          ['Korean', 'Asian', 'Noodles']   \n",
              "6            ['Healthy', 'Bowls', 'Acai']   \n",
              "7                   ['Indian', 'Chinese']   \n",
              "8           ['Indian', 'Curry', 'Grills']   \n",
              "9   ['Desserts', 'Japanese', 'Beverages']   \n",
              "10   ['American', 'Fast Food', 'Chicken']   \n",
              "\n",
              "                                           Menu_Items  \n",
              "0   [[\"Gino's Meal for One\", 'Choice of Panuozzo, ...  \n",
              "1   [[\"Nonna's Meal for 1\", 'Any Appetiser, Any Pa...  \n",
              "2   [['Mixed Seafood Pizza BOGO', 'Pizza sauce, mo...  \n",
              "3   [['Cheesy Garlic Bread (Vegetarian)', 'A full ...  \n",
              "4   [['Meal for One', 'Any Pizza, Appetiser & Soft...  \n",
              "5   [['KFC (Korean Fried Chicken)', 'Chicken wings...  \n",
              "6   [['Indian Spiced Braised Chicken w/ Sweet Pota...  \n",
              "7   [['Paneer Chilly - Serves 2', 'Indo chinese st...  \n",
              "8   [['Manchurian Vegetables With Fried Rice', '',...  \n",
              "9   [['Japanese Pancake Classic', 'Souffle pancake...  \n",
              "10  [['Combo Meal', 'Chicken dynamite popcorn, and...  "
            ],
            "text/html": [
              "\n",
              "  <div id=\"df-4450fd29-40dd-415a-bc6c-fb13c7c780ab\">\n",
              "    <div class=\"colab-df-container\">\n",
              "      <div>\n",
              "<style scoped>\n",
              "    .dataframe tbody tr th:only-of-type {\n",
              "        vertical-align: middle;\n",
              "    }\n",
              "\n",
              "    .dataframe tbody tr th {\n",
              "        vertical-align: top;\n",
              "    }\n",
              "\n",
              "    .dataframe thead th {\n",
              "        text-align: right;\n",
              "    }\n",
              "</style>\n",
              "<table border=\"1\" class=\"dataframe\">\n",
              "  <thead>\n",
              "    <tr style=\"text-align: right;\">\n",
              "      <th></th>\n",
              "      <th>Restaurant_Name</th>\n",
              "      <th>Restaurant_Logo_url</th>\n",
              "      <th>Latitude</th>\n",
              "      <th>Longitude</th>\n",
              "      <th>Cuisine_tags</th>\n",
              "      <th>Menu_Items</th>\n",
              "    </tr>\n",
              "  </thead>\n",
              "  <tbody>\n",
              "    <tr>\n",
              "      <th>0</th>\n",
              "      <td>Gino's Deli</td>\n",
              "      <td>https://images.deliveryhero.io/image/talabat/r...</td>\n",
              "      <td>25.064858</td>\n",
              "      <td>55.138377</td>\n",
              "      <td>['Sandwiches', 'Pasta', 'Italian']</td>\n",
              "      <td>[[\"Gino's Meal for One\", 'Choice of Panuozzo, ...</td>\n",
              "    </tr>\n",
              "    <tr>\n",
              "      <th>1</th>\n",
              "      <td>Pasta Della Nonna</td>\n",
              "      <td>https://images.deliveryhero.io/image/talabat/r...</td>\n",
              "      <td>25.065133</td>\n",
              "      <td>55.138278</td>\n",
              "      <td>['Italian', 'Pasta', 'Salad']</td>\n",
              "      <td>[[\"Nonna's Meal for 1\", 'Any Appetiser, Any Pa...</td>\n",
              "    </tr>\n",
              "    <tr>\n",
              "      <th>2</th>\n",
              "      <td>Pizzaro</td>\n",
              "      <td>https://images.deliveryhero.io/image/talabat/r...</td>\n",
              "      <td>25.083309</td>\n",
              "      <td>55.146559</td>\n",
              "      <td>['Italian', 'Pizza', 'Pasta']</td>\n",
              "      <td>[['Mixed Seafood Pizza BOGO', 'Pizza sauce, mo...</td>\n",
              "    </tr>\n",
              "    <tr>\n",
              "      <th>3</th>\n",
              "      <td>The Pasta Guyz</td>\n",
              "      <td>https://images.deliveryhero.io/image/talabat/r...</td>\n",
              "      <td>25.073776</td>\n",
              "      <td>55.132283</td>\n",
              "      <td>['Italian', 'Pasta']</td>\n",
              "      <td>[['Cheesy Garlic Bread (Vegetarian)', 'A full ...</td>\n",
              "    </tr>\n",
              "    <tr>\n",
              "      <th>4</th>\n",
              "      <td>Pizza Di Rocco</td>\n",
              "      <td>https://images.deliveryhero.io/image/talabat/r...</td>\n",
              "      <td>25.065092</td>\n",
              "      <td>55.138791</td>\n",
              "      <td>['Pizza', 'Pasta', 'Italian']</td>\n",
              "      <td>[['Meal for One', 'Any Pizza, Appetiser &amp; Soft...</td>\n",
              "    </tr>\n",
              "    <tr>\n",
              "      <th>5</th>\n",
              "      <td>Seoul Sister Korean By Kitch-In</td>\n",
              "      <td>https://images.deliveryhero.io/image/talabat/r...</td>\n",
              "      <td>25.046921</td>\n",
              "      <td>55.230311</td>\n",
              "      <td>['Korean', 'Asian', 'Noodles']</td>\n",
              "      <td>[['KFC (Korean Fried Chicken)', 'Chicken wings...</td>\n",
              "    </tr>\n",
              "    <tr>\n",
              "      <th>6</th>\n",
              "      <td>The Green House  Warm Healthy Bowls</td>\n",
              "      <td>https://images.deliveryhero.io/image/talabat/r...</td>\n",
              "      <td>25.226227</td>\n",
              "      <td>55.394496</td>\n",
              "      <td>['Healthy', 'Bowls', 'Acai']</td>\n",
              "      <td>[['Indian Spiced Braised Chicken w/ Sweet Pota...</td>\n",
              "    </tr>\n",
              "    <tr>\n",
              "      <th>7</th>\n",
              "      <td>Goan Spicy Bites</td>\n",
              "      <td>https://images.deliveryhero.io/image/talabat/r...</td>\n",
              "      <td>25.132516</td>\n",
              "      <td>55.247594</td>\n",
              "      <td>['Indian', 'Chinese']</td>\n",
              "      <td>[['Paneer Chilly - Serves 2', 'Indo chinese st...</td>\n",
              "    </tr>\n",
              "    <tr>\n",
              "      <th>8</th>\n",
              "      <td>Curry Bites</td>\n",
              "      <td>https://images.deliveryhero.io/image/talabat/r...</td>\n",
              "      <td>25.142744</td>\n",
              "      <td>55.249527</td>\n",
              "      <td>['Indian', 'Curry', 'Grills']</td>\n",
              "      <td>[['Manchurian Vegetables With Fried Rice', '',...</td>\n",
              "    </tr>\n",
              "    <tr>\n",
              "      <th>9</th>\n",
              "      <td>OTAKU Restaurant</td>\n",
              "      <td>https://images.deliveryhero.io/image/talabat/r...</td>\n",
              "      <td>25.189112</td>\n",
              "      <td>55.297835</td>\n",
              "      <td>['Desserts', 'Japanese', 'Beverages']</td>\n",
              "      <td>[['Japanese Pancake Classic', 'Souffle pancake...</td>\n",
              "    </tr>\n",
              "    <tr>\n",
              "      <th>10</th>\n",
              "      <td>Mad Pops</td>\n",
              "      <td>https://images.deliveryhero.io/image/talabat/r...</td>\n",
              "      <td>25.330212</td>\n",
              "      <td>55.371997</td>\n",
              "      <td>['American', 'Fast Food', 'Chicken']</td>\n",
              "      <td>[['Combo Meal', 'Chicken dynamite popcorn, and...</td>\n",
              "    </tr>\n",
              "  </tbody>\n",
              "</table>\n",
              "</div>\n",
              "      <button class=\"colab-df-convert\" onclick=\"convertToInteractive('df-4450fd29-40dd-415a-bc6c-fb13c7c780ab')\"\n",
              "              title=\"Convert this dataframe to an interactive table.\"\n",
              "              style=\"display:none;\">\n",
              "        \n",
              "  <svg xmlns=\"http://www.w3.org/2000/svg\" height=\"24px\"viewBox=\"0 0 24 24\"\n",
              "       width=\"24px\">\n",
              "    <path d=\"M0 0h24v24H0V0z\" fill=\"none\"/>\n",
              "    <path d=\"M18.56 5.44l.94 2.06.94-2.06 2.06-.94-2.06-.94-.94-2.06-.94 2.06-2.06.94zm-11 1L8.5 8.5l.94-2.06 2.06-.94-2.06-.94L8.5 2.5l-.94 2.06-2.06.94zm10 10l.94 2.06.94-2.06 2.06-.94-2.06-.94-.94-2.06-.94 2.06-2.06.94z\"/><path d=\"M17.41 7.96l-1.37-1.37c-.4-.4-.92-.59-1.43-.59-.52 0-1.04.2-1.43.59L10.3 9.45l-7.72 7.72c-.78.78-.78 2.05 0 2.83L4 21.41c.39.39.9.59 1.41.59.51 0 1.02-.2 1.41-.59l7.78-7.78 2.81-2.81c.8-.78.8-2.07 0-2.86zM5.41 20L4 18.59l7.72-7.72 1.47 1.35L5.41 20z\"/>\n",
              "  </svg>\n",
              "      </button>\n",
              "      \n",
              "  <style>\n",
              "    .colab-df-container {\n",
              "      display:flex;\n",
              "      flex-wrap:wrap;\n",
              "      gap: 12px;\n",
              "    }\n",
              "\n",
              "    .colab-df-convert {\n",
              "      background-color: #E8F0FE;\n",
              "      border: none;\n",
              "      border-radius: 50%;\n",
              "      cursor: pointer;\n",
              "      display: none;\n",
              "      fill: #1967D2;\n",
              "      height: 32px;\n",
              "      padding: 0 0 0 0;\n",
              "      width: 32px;\n",
              "    }\n",
              "\n",
              "    .colab-df-convert:hover {\n",
              "      background-color: #E2EBFA;\n",
              "      box-shadow: 0px 1px 2px rgba(60, 64, 67, 0.3), 0px 1px 3px 1px rgba(60, 64, 67, 0.15);\n",
              "      fill: #174EA6;\n",
              "    }\n",
              "\n",
              "    [theme=dark] .colab-df-convert {\n",
              "      background-color: #3B4455;\n",
              "      fill: #D2E3FC;\n",
              "    }\n",
              "\n",
              "    [theme=dark] .colab-df-convert:hover {\n",
              "      background-color: #434B5C;\n",
              "      box-shadow: 0px 1px 3px 1px rgba(0, 0, 0, 0.15);\n",
              "      filter: drop-shadow(0px 1px 2px rgba(0, 0, 0, 0.3));\n",
              "      fill: #FFFFFF;\n",
              "    }\n",
              "  </style>\n",
              "\n",
              "      <script>\n",
              "        const buttonEl =\n",
              "          document.querySelector('#df-4450fd29-40dd-415a-bc6c-fb13c7c780ab button.colab-df-convert');\n",
              "        buttonEl.style.display =\n",
              "          google.colab.kernel.accessAllowed ? 'block' : 'none';\n",
              "\n",
              "        async function convertToInteractive(key) {\n",
              "          const element = document.querySelector('#df-4450fd29-40dd-415a-bc6c-fb13c7c780ab');\n",
              "          const dataTable =\n",
              "            await google.colab.kernel.invokeFunction('convertToInteractive',\n",
              "                                                     [key], {});\n",
              "          if (!dataTable) return;\n",
              "\n",
              "          const docLinkHtml = 'Like what you see? Visit the ' +\n",
              "            '<a target=\"_blank\" href=https://colab.research.google.com/notebooks/data_table.ipynb>data table notebook</a>'\n",
              "            + ' to learn more about interactive tables.';\n",
              "          element.innerHTML = '';\n",
              "          dataTable['output_type'] = 'display_data';\n",
              "          await google.colab.output.renderOutput(dataTable, element);\n",
              "          const docLink = document.createElement('div');\n",
              "          docLink.innerHTML = docLinkHtml;\n",
              "          element.appendChild(docLink);\n",
              "        }\n",
              "      </script>\n",
              "    </div>\n",
              "  </div>\n",
              "  "
            ]
          },
          "metadata": {},
          "execution_count": 47
        }
      ]
    },
    {
      "cell_type": "code",
      "source": [
        ""
      ],
      "metadata": {
        "id": "ECrbbi_JGrkE"
      },
      "execution_count": null,
      "outputs": []
    }
  ]
}